{
 "cells": [
  {
   "cell_type": "markdown",
   "metadata": {},
   "source": [
    "# AI PA1: NQueens\n",
    "**Group members:**\n",
    "- İkram Celal, Keskin, 200316059\n",
    "- Musa Sina, Ertuğrul, 200316011\n",
    "\n",
    "\n",
    "**Readme**\n",
    "\n",
    "Give some information about your Python version, development environment, etc.\n",
    "\n",
    "## Part 1: Class definition\n",
    "\n",
    "This is the part that you will implement. See the comments in the code and read the assignment description."
   ]
  },
  {
   "cell_type": "code",
   "execution_count": 57,
   "metadata": {},
   "outputs": [],
   "source": [
    "import random\n",
    "\n",
    "#class definition for NQueens\n",
    "class NQueens():\n",
    "    \"\"\" class constructor\n",
    "    initializes the instance attributes N and state \"\"\"\n",
    "    def __init__(self, N):\n",
    "        self.N=N\n",
    "        self.state=self._set_state()\n",
    "\n",
    "    \"\"\" returns a formatted string\n",
    "    that represents the instance \"\"\"        \n",
    "    def __str__(self):\n",
    "        return '\\n'.join([' '.join(['Q' if c == row else '.' for c in range(self.N)]) for row in range(self.N)])\n",
    "\n",
    "    \"\"\" Sets the instance attribute state by displaying \n",
    "    a menu to the user. The user either enters the state \n",
    "    manually or prompts the system to generate a random state.\n",
    "    Check if the input state is a valid state. \"\"\"         \n",
    "    def _set_state(self):\n",
    "        choice = input(\"Manually enter state (M) or generate a random state (R)? \").strip().lower()\n",
    "        if choice.upper() == 'M':\n",
    "            state = input(f\"Enter a state of length {self.N} (e.g., '1234'): \").strip()\n",
    "            if self._is_valid(state):\n",
    "                self.state = state\n",
    "            else:\n",
    "                print(\"Invalid state. Please try again.\")\n",
    "                self._set_state()\n",
    "        elif choice.upper() == 'R':\n",
    "            self.state = self.generate_random_state()\n",
    "        else:\n",
    "            print(\"Invalid choice. Please enter 'M' or 'R'.\")\n",
    "            self._set_state()   \n",
    "\n",
    "    \"\"\" generates and returns a valid random state \"\"\"\n",
    "    def generate_random_state(self):\n",
    "        print(self.state + \" 1st print\")\n",
    "        return ''.join(str(random.randint(1, self.N )) for _ in range(self.N))    \n",
    "    \n",
    "    \"\"\" This is an internal function that takes a state as input\n",
    "    and return if this is a valid state or not \"\"\"\n",
    "    def _is_valid(self,state):\n",
    "        return len(state) == self.N and all(0 <= int(row) < self.N for row in state) \n",
    "\n",
    "    \"\"\" This is the primary function of this class.\n",
    "    It returns the number of attacking pairs in the given state board.\n",
    "    \"\"\"  \n",
    "    def _count_attacking_pairs(self, state):\n",
    "        count = 0\n",
    "        for i in range(self.N):\n",
    "            for j in range(i + 1, self.N):\n",
    "                if state[i] == state[j] or abs(int(state[i]) - int(state[j])) == j - i:\n",
    "                    count += 1\n",
    "        return count"
   ]
  },
  {
   "cell_type": "markdown",
   "metadata": {},
   "source": [
    "## Part 2: Testing\n",
    "\n",
    "Do not change this part. This is the test code."
   ]
  },
  {
   "cell_type": "code",
   "execution_count": 58,
   "metadata": {},
   "outputs": [
    {
     "ename": "AttributeError",
     "evalue": "'NQueens' object has no attribute 'state'",
     "output_type": "error",
     "traceback": [
      "\u001b[1;31m---------------------------------------------------------------------------\u001b[0m",
      "\u001b[1;31mAttributeError\u001b[0m                            Traceback (most recent call last)",
      "\u001b[1;32mc:\\Users\\Celal\\Documents\\GitHub\\Ai_homework\\PA1\\AI_PA1_Base.ipynb Cell 4\u001b[0m line \u001b[0;36m2\n\u001b[0;32m      <a href='vscode-notebook-cell:/c%3A/Users/Celal/Documents/GitHub/Ai_homework/PA1/AI_PA1_Base.ipynb#W3sZmlsZQ%3D%3D?line=0'>1</a>\u001b[0m \u001b[39m# This is a test code. You can try with different N values and states.\u001b[39;00m\n\u001b[1;32m----> <a href='vscode-notebook-cell:/c%3A/Users/Celal/Documents/GitHub/Ai_homework/PA1/AI_PA1_Base.ipynb#W3sZmlsZQ%3D%3D?line=1'>2</a>\u001b[0m problem \u001b[39m=\u001b[39m NQueens(\u001b[39m8\u001b[39m) \u001b[39m#create NQueens instance\u001b[39;00m\n\u001b[0;32m      <a href='vscode-notebook-cell:/c%3A/Users/Celal/Documents/GitHub/Ai_homework/PA1/AI_PA1_Base.ipynb#W3sZmlsZQ%3D%3D?line=2'>3</a>\u001b[0m \u001b[39mprint\u001b[39m(problem) \u001b[39m#print the description of the problem\u001b[39;00m\n\u001b[0;32m      <a href='vscode-notebook-cell:/c%3A/Users/Celal/Documents/GitHub/Ai_homework/PA1/AI_PA1_Base.ipynb#W3sZmlsZQ%3D%3D?line=3'>4</a>\u001b[0m \u001b[39mprint\u001b[39m(problem\u001b[39m.\u001b[39m_count_attacking_pairs(problem\u001b[39m.\u001b[39mstate))\n",
      "\u001b[1;32mc:\\Users\\Celal\\Documents\\GitHub\\Ai_homework\\PA1\\AI_PA1_Base.ipynb Cell 4\u001b[0m line \u001b[0;36m9\n\u001b[0;32m      <a href='vscode-notebook-cell:/c%3A/Users/Celal/Documents/GitHub/Ai_homework/PA1/AI_PA1_Base.ipynb#W3sZmlsZQ%3D%3D?line=6'>7</a>\u001b[0m \u001b[39mdef\u001b[39;00m \u001b[39m__init__\u001b[39m(\u001b[39mself\u001b[39m, N):\n\u001b[0;32m      <a href='vscode-notebook-cell:/c%3A/Users/Celal/Documents/GitHub/Ai_homework/PA1/AI_PA1_Base.ipynb#W3sZmlsZQ%3D%3D?line=7'>8</a>\u001b[0m     \u001b[39mself\u001b[39m\u001b[39m.\u001b[39mN\u001b[39m=\u001b[39mN\n\u001b[1;32m----> <a href='vscode-notebook-cell:/c%3A/Users/Celal/Documents/GitHub/Ai_homework/PA1/AI_PA1_Base.ipynb#W3sZmlsZQ%3D%3D?line=8'>9</a>\u001b[0m     \u001b[39mself\u001b[39m\u001b[39m.\u001b[39mstate\u001b[39m=\u001b[39m\u001b[39mself\u001b[39m\u001b[39m.\u001b[39m_set_state()\n",
      "\u001b[1;32mc:\\Users\\Celal\\Documents\\GitHub\\Ai_homework\\PA1\\AI_PA1_Base.ipynb Cell 4\u001b[0m line \u001b[0;36m3\n\u001b[0;32m     <a href='vscode-notebook-cell:/c%3A/Users/Celal/Documents/GitHub/Ai_homework/PA1/AI_PA1_Base.ipynb#W3sZmlsZQ%3D%3D?line=27'>28</a>\u001b[0m         \u001b[39mself\u001b[39m\u001b[39m.\u001b[39m_set_state()\n\u001b[0;32m     <a href='vscode-notebook-cell:/c%3A/Users/Celal/Documents/GitHub/Ai_homework/PA1/AI_PA1_Base.ipynb#W3sZmlsZQ%3D%3D?line=28'>29</a>\u001b[0m \u001b[39melif\u001b[39;00m choice\u001b[39m.\u001b[39mupper() \u001b[39m==\u001b[39m \u001b[39m'\u001b[39m\u001b[39mR\u001b[39m\u001b[39m'\u001b[39m:\n\u001b[1;32m---> <a href='vscode-notebook-cell:/c%3A/Users/Celal/Documents/GitHub/Ai_homework/PA1/AI_PA1_Base.ipynb#W3sZmlsZQ%3D%3D?line=29'>30</a>\u001b[0m     \u001b[39mself\u001b[39m\u001b[39m.\u001b[39mstate \u001b[39m=\u001b[39m \u001b[39mself\u001b[39m\u001b[39m.\u001b[39mgenerate_random_state()\n\u001b[0;32m     <a href='vscode-notebook-cell:/c%3A/Users/Celal/Documents/GitHub/Ai_homework/PA1/AI_PA1_Base.ipynb#W3sZmlsZQ%3D%3D?line=30'>31</a>\u001b[0m     \u001b[39mprint\u001b[39m(\u001b[39mself\u001b[39m\u001b[39m.\u001b[39mstate \u001b[39m+\u001b[39m \u001b[39m\"\u001b[39m\u001b[39m 1st print\u001b[39m\u001b[39m\"\u001b[39m)\n\u001b[0;32m     <a href='vscode-notebook-cell:/c%3A/Users/Celal/Documents/GitHub/Ai_homework/PA1/AI_PA1_Base.ipynb#W3sZmlsZQ%3D%3D?line=31'>32</a>\u001b[0m \u001b[39melse\u001b[39;00m:\n",
      "\u001b[1;32mc:\\Users\\Celal\\Documents\\GitHub\\Ai_homework\\PA1\\AI_PA1_Base.ipynb Cell 4\u001b[0m line \u001b[0;36m3\n\u001b[0;32m     <a href='vscode-notebook-cell:/c%3A/Users/Celal/Documents/GitHub/Ai_homework/PA1/AI_PA1_Base.ipynb#W3sZmlsZQ%3D%3D?line=36'>37</a>\u001b[0m \u001b[39mdef\u001b[39;00m \u001b[39mgenerate_random_state\u001b[39m(\u001b[39mself\u001b[39m):\n\u001b[1;32m---> <a href='vscode-notebook-cell:/c%3A/Users/Celal/Documents/GitHub/Ai_homework/PA1/AI_PA1_Base.ipynb#W3sZmlsZQ%3D%3D?line=37'>38</a>\u001b[0m     \u001b[39mprint\u001b[39m(\u001b[39mself\u001b[39m\u001b[39m.\u001b[39mstate \u001b[39m+\u001b[39m \u001b[39m\"\u001b[39m\u001b[39m 1st print\u001b[39m\u001b[39m\"\u001b[39m)\n\u001b[0;32m     <a href='vscode-notebook-cell:/c%3A/Users/Celal/Documents/GitHub/Ai_homework/PA1/AI_PA1_Base.ipynb#W3sZmlsZQ%3D%3D?line=38'>39</a>\u001b[0m     \u001b[39mreturn\u001b[39;00m \u001b[39m'\u001b[39m\u001b[39m'\u001b[39m\u001b[39m.\u001b[39mjoin(\u001b[39mstr\u001b[39m(random\u001b[39m.\u001b[39mrandint(\u001b[39m1\u001b[39m, \u001b[39mself\u001b[39m\u001b[39m.\u001b[39mN )) \u001b[39mfor\u001b[39;00m _ \u001b[39min\u001b[39;00m \u001b[39mrange\u001b[39m(\u001b[39mself\u001b[39m\u001b[39m.\u001b[39mN))\n",
      "\u001b[1;31mAttributeError\u001b[0m: 'NQueens' object has no attribute 'state'"
     ]
    }
   ],
   "source": [
    "# This is a test code. You can try with different N values and states.\n",
    "problem = NQueens(8) #create NQueens instance\n",
    "print(problem) #print the description of the problem\n",
    "print(problem._count_attacking_pairs(problem.state)) #print the total number of attacking pairs in the board"
   ]
  }
 ],
 "metadata": {
  "interpreter": {
   "hash": "e922dd073470bdcc017ae3abd31d6491d6ed7bf31c1d559806e5511bfea88b81"
  },
  "kernelspec": {
   "display_name": "Python 3.8.5 64-bit",
   "name": "python3"
  },
  "language_info": {
   "codemirror_mode": {
    "name": "ipython",
    "version": 3
   },
   "file_extension": ".py",
   "mimetype": "text/x-python",
   "name": "python",
   "nbconvert_exporter": "python",
   "pygments_lexer": "ipython3",
   "version": "3.11.5"
  },
  "orig_nbformat": 4
 },
 "nbformat": 4,
 "nbformat_minor": 2
}
