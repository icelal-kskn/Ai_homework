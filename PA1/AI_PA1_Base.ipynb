{
 "cells": [
  {
   "cell_type": "markdown",
   "metadata": {},
   "source": [
    "# AI PA1: NQueens\n",
    "**Group members:**\n",
    "- İkram Celal, Keskin, 200316059\n",
    "- Musa Sina, Ertuğrul, 200316011\n",
    "\n",
    "\n",
    "**Readme**\n",
    "\n",
    "Give some information about your Python version, development environment, etc.\n",
    "\n",
    "## Part 1: Class definition\n",
    "\n",
    "This is the part that you will implement. See the comments in the code and read the assignment description."
   ]
  },
  {
   "cell_type": "code",
   "execution_count": null,
   "metadata": {},
   "outputs": [],
   "source": [
    "import random\n",
    "\n",
    "#class definition for NQueens\n",
    "class NQueens():\n",
    "    \"\"\" class constructor\n",
    "    initializes the instance attributes N and state \"\"\"\n",
    "    def __init__(self, N):\n",
    "        self.N=N\n",
    "        self.state=self._set_state()\n",
    "\n",
    "    \"\"\" returns a formatted string\n",
    "    that represents the instance \"\"\"        \n",
    "    def __str__(self):\n",
    "        return f\"State: '{self.state}'\\n Number of Attacking Pairs: '{self._count_attacking_pairs(self.state)}'\"\n",
    "\n",
    "    \"\"\" Sets the instance attribute state by displaying \n",
    "    a menu to the user. The user either enters the state \n",
    "    manually or prompts the system to generate a random state.\n",
    "    Check if the input state is a valid state. \"\"\"         \n",
    "    def _set_state(self):\n",
    "        choice = input(\"Manually enter state (M) or generate a random state (R)? \").strip().lower()\n",
    "        if choice.upper() == 'M':\n",
    "            state = input(f\"Enter a state of length {self.N}: \").strip()\n",
    "            if self._is_valid(state):\n",
    "                return state\n",
    "            else:\n",
    "                print(\"Invalid state. Please try again.\")\n",
    "                return self._set_state()\n",
    "        elif choice.upper() == 'R':\n",
    "            return self.generate_random_state()\n",
    "        else:\n",
    "            print(\"Invalid choice. Please enter 'M' or 'R'.\")\n",
    "            return self._set_state()   \n",
    "\n",
    "    \"\"\" generates and returns a valid random state \"\"\"\n",
    "    def generate_random_state(self):\n",
    "        while not self._is_valid(state):\n",
    "            state = ''.join(str(random.randint(1, self.N)) for _ in range(self.N))\n",
    "        return state    \n",
    "    \n",
    "    \"\"\" This is an internal function that takes a state as input\n",
    "    and return if this is a valid state or not \"\"\"\n",
    "    def _is_valid(self,state):\n",
    "        if not state.isdigit():\n",
    "            return False\n",
    "        if len(state) != self.N:\n",
    "            return False\n",
    "        if any(int(row) < 0 or int(row) > self.N for row in state):\n",
    "            return False \n",
    "        return True  \n",
    "\n",
    "    \"\"\" This is the primary function of this class.\n",
    "    It returns the number of attacking pairs in the given state board.\n",
    "    \"\"\"  \n",
    "    def _count_attacking_pairs(self, state):\n",
    "        count = 0\n",
    "        for i in range(self.N):\n",
    "            for j in range(i + 1, self.N):\n",
    "                if state[i] == state[j] or abs(int(state[i]) - int(state[j])) == j - i:\n",
    "                    count += 1\n",
    "        return count"
   ]
  },
  {
   "cell_type": "markdown",
   "metadata": {},
   "source": [
    "## Part 2: Testing\n",
    "\n",
    "Do not change this part. This is the test code."
   ]
  },
  {
   "cell_type": "code",
   "execution_count": 2,
   "metadata": {},
   "outputs": [],
   "source": [
    "# This is a test code. You can try with different N values and states.\n",
    "problem = NQueens(8) #create NQueens instance\n",
    "print(problem) #print the description of the problem\n",
    "print(problem._count_attacking_pairs(problem.state)) #print the total number of attacking pairs in the board"
   ]
  }
 ],
 "metadata": {
  "interpreter": {
   "hash": "e922dd073470bdcc017ae3abd31d6491d6ed7bf31c1d559806e5511bfea88b81"
  },
  "kernelspec": {
   "display_name": "Python 3.8.5 64-bit",
   "name": "python3"
  },
  "language_info": {
   "codemirror_mode": {
    "name": "ipython",
    "version": 3
   },
   "file_extension": ".py",
   "mimetype": "text/x-python",
   "name": "python",
   "nbconvert_exporter": "python",
   "pygments_lexer": "ipython3",
   "version": "3.11.5"
  },
  "orig_nbformat": 4
 },
 "nbformat": 4,
 "nbformat_minor": 2
}
